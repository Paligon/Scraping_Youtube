{
 "cells": [
  {
   "cell_type": "code",
   "execution_count": 25,
   "metadata": {},
   "outputs": [],
   "source": [
    "from selenium import webdriver\n",
    "import time\n",
    "from bs4 import BeautifulSoup\n",
    "import pandas as pd\n",
    "import matplotlib.pyplot as plt #for visualization\n",
    "import re\n",
    "import time\n",
    "from lxml import html\n",
    "from lxml.etree import tostring\n",
    "import pprint\n",
    "from lxml.cssselect import CSSSelector\n",
    "from lxml import html\n",
    "import json\n",
    "import xml.etree.ElementTree as ET  "
   ]
  },
  {
   "cell_type": "markdown",
   "metadata": {},
   "source": [
    "Scrape trending YouTube videos (https://www.youtube.com/feed/trending) to get the following data on each movie:\n",
    "•\tURL,\n",
    "•\ttitle,\n",
    "•\tduration,\n",
    "•\tusername,\n",
    "•\tviews.\n",
    "1.\tGet the data using Selenium\n"
   ]
  },
  {
   "cell_type": "code",
   "execution_count": 26,
   "metadata": {},
   "outputs": [],
   "source": [
    "url=\"https://www.youtube.com/feed/trending\""
   ]
  },
  {
   "cell_type": "code",
   "execution_count": 27,
   "metadata": {},
   "outputs": [],
   "source": [
    "def youtube(url):\n",
    "    browser = webdriver.Chrome()\n",
    "    browser.get(url)\n",
    "    browser.implicitly_wait(20)\n",
    "    titles=[i.text for i in browser.find_elements_by_id(\"video-title\")]\n",
    "    links=[i.get_attribute('href') for i in browser.find_elements_by_id(\"video-title\")]\n",
    "    attributes=[i.get_attribute('aria-label') for i in browser.find_elements_by_id(\"video-title\")]\n",
    "    views=[\"\".join(re.findall(\"\\\\s([0-9,]+)\\\\s+views\",i)) for i in attributes]\n",
    "    page = BeautifulSoup(browser.page_source,\"lxml\")\n",
    "    durations_tex=[i.get_text()for i in page.find_all('span',class_=\"style-scope ytd-thumbnail-overlay-time-status-renderer\")]\n",
    "    durations=[re.sub(\"[^0-9:]\",\"\",i)for i in durations_tex]\n",
    "    usernames=[i.text for i in browser.find_elements_by_xpath(\"//yt-formatted-string[@id='byline']/a\")]\n",
    "    browser.implicitly_wait(30)\n",
    "    info=pd.DataFrame({\"titles\":titles,\"links\":links,\"usernames\":usernames,\"durations\":durations,\n",
    "         \"views\":views})\n",
    "    browser.close()\n",
    "    return info\n",
    "\n"
   ]
  },
  {
   "cell_type": "code",
   "execution_count": 28,
   "metadata": {},
   "outputs": [],
   "source": [
    "data= youtube(url)"
   ]
  },
  {
   "cell_type": "code",
   "execution_count": 30,
   "metadata": {},
   "outputs": [],
   "source": [
    "def make_num(strings):\n",
    "    \"\"\"this fuction we will use to convert column view to numeris in order\n",
    "    to calculate average\"\"\"\n",
    "    strings=int(re.sub('[^0-9,]', \"\", strings).replace(\",\",\"\"))\n",
    "    return strings\n",
    "def col_range(column):\n",
    "    \"\"\"we will use this to calculate calculate range\"\"\"\n",
    "    maxi=column.max()\n",
    "    mini=column.min()\n",
    "    result=maxi-mini\n",
    "    return result"
   ]
  },
  {
   "cell_type": "code",
   "execution_count": 31,
   "metadata": {},
   "outputs": [],
   "source": [
    "data[\"views\"]=data[\"views\"].apply(make_num)## we need this to make numeric"
   ]
  },
  {
   "cell_type": "code",
   "execution_count": 32,
   "metadata": {},
   "outputs": [
    {
     "data": {
      "text/plain": [
       "numpy.int64"
      ]
     },
     "execution_count": 32,
     "metadata": {},
     "output_type": "execute_result"
    }
   ],
   "source": [
    "type(data[\"views\"][0])"
   ]
  },
  {
   "cell_type": "code",
   "execution_count": 33,
   "metadata": {},
   "outputs": [
    {
     "name": "stdout",
     "output_type": "stream",
     "text": [
      "The average of views for trending videos is 3001732\n",
      "The median of views for trending videos is 1479229\n",
      "The range of views for trending videos is 20400506\n"
     ]
    }
   ],
   "source": [
    "c_range=col_range(data[\"views\"])\n",
    "print(\"The average of views for trending videos is %d\"%(data['views'].mean()))\n",
    "print(\"The median of views for trending videos is %d\"%(data['views'].median()))\n",
    "print(\"The range of views for trending videos is %d\"%(c_range))"
   ]
  },
  {
   "cell_type": "code",
   "execution_count": 15,
   "metadata": {},
   "outputs": [],
   "source": [
    "#saving it into csv\n",
    "data.to_csv(\"Youtube.csv\",index=False)\n"
   ]
  },
  {
   "cell_type": "code",
   "execution_count": 14,
   "metadata": {},
   "outputs": [],
   "source": [
    "#saving it into json\n",
    "with open(\"youtubeJs.json\", \"w+\") as output_file:\n",
    "    output_file.write(data.to_json())"
   ]
  },
  {
   "cell_type": "code",
   "execution_count": 10,
   "metadata": {},
   "outputs": [],
   "source": [
    "def func(row):\n",
    "    xml = ['<item>']\n",
    "    for field in row.index:\n",
    "        xml.append('  <field name=\"{0}\">{1}</field>'.format(field, row[field]))\n",
    "    xml.append('</item>')\n",
    "    return '\\n'.join(xml)"
   ]
  },
  {
   "cell_type": "code",
   "execution_count": 13,
   "metadata": {},
   "outputs": [],
   "source": [
    "xml_file=data.apply(func, axis=1)"
   ]
  },
  {
   "cell_type": "code",
   "execution_count": 54,
   "metadata": {},
   "outputs": [],
   "source": [
    "tree=html.document_fromstring(xml_file)"
   ]
  },
  {
   "cell_type": "code",
   "execution_count": 63,
   "metadata": {
    "scrolled": false
   },
   "outputs": [
    {
     "data": {
      "text/plain": [
       "lxml.html.HtmlElement"
      ]
     },
     "execution_count": 63,
     "metadata": {},
     "output_type": "execute_result"
    }
   ],
   "source": []
  },
  {
   "cell_type": "code",
   "execution_count": 19,
   "metadata": {},
   "outputs": [],
   "source": [
    "def to_xml(df, filename=None, mode='w'):\n",
    "    def row_to_xml(row):\n",
    "        xml = ['<item>']\n",
    "        for i, col_name in enumerate(row.index):\n",
    "            xml.append('  <field name=\"{0}\">{1}</field>'.format(col_name, row.iloc[i]))\n",
    "        xml.append('</item>')\n",
    "        return '\\n'.join(xml)\n",
    "    res = '\\n'.join(df.apply(row_to_xml, axis=1))\n",
    "\n",
    "    if filename is None:\n",
    "        return res\n",
    "    with open(filename, mode) as f:\n",
    "        f.write(res)"
   ]
  },
  {
   "cell_type": "code",
   "execution_count": 23,
   "metadata": {},
   "outputs": [],
   "source": [
    "to_xml(data,\"file1.xml\")##some error happened but I could not fixed it"
   ]
  }
 ],
 "metadata": {
  "kernelspec": {
   "display_name": "Python 3",
   "language": "python",
   "name": "python3"
  },
  "language_info": {
   "codemirror_mode": {
    "name": "ipython",
    "version": 3
   },
   "file_extension": ".py",
   "mimetype": "text/x-python",
   "name": "python",
   "nbconvert_exporter": "python",
   "pygments_lexer": "ipython3",
   "version": "3.6.5"
  }
 },
 "nbformat": 4,
 "nbformat_minor": 2
}
